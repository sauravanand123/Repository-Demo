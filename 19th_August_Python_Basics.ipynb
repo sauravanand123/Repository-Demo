{
 "cells": [
  {
   "cell_type": "markdown",
   "metadata": {},
   "source": [
    "#### 1.Declare two variables, x and y,and assign them integer values. Swap the values of\n",
    "####  these variables without using any temporary variables."
   ]
  },
  {
   "cell_type": "code",
   "execution_count": 2,
   "metadata": {},
   "outputs": [
    {
     "name": "stdout",
     "output_type": "stream",
     "text": [
      "Before swap x: 7 and y: 13\n",
      "After swap x: 13 and y: 7\n"
     ]
    }
   ],
   "source": [
    "# Step 1: Declare and initialize two integer variables\n",
    "x = 7\n",
    "y = 13\n",
    "# Step 2: Creating function to swap the variables\n",
    "def swap_variables(x,y):\n",
    "  print(f\"Before swap x: {x} and y: {y}\")\n",
    "  x,y = y, x\n",
    "  print(f\"After swap x: {x} and y: {y}\")\n",
    "\n",
    "swap_variables(x,y)\n"
   ]
  },
  {
   "cell_type": "markdown",
   "metadata": {},
   "source": [
    "#### 2. Create a program that calculates the area of a rectangle. Take the length and width as inputs from the user and store them in variables. Calculate and display the area.\n"
   ]
  },
  {
   "cell_type": "code",
   "execution_count": 3,
   "metadata": {},
   "outputs": [
    {
     "name": "stdout",
     "output_type": "stream",
     "text": [
      "The area of the rectangle is: 63\n"
     ]
    }
   ],
   "source": [
    "# Step 1: Get input from the user for length and width\n",
    "length = eval(input(\"Enter the length of the rectangle: \")) # Taking user input for length and converting it to a floating-point number\n",
    "width = eval(input(\"Enter the width of the rectangle: \"))   # Taking user input for width and converting it to a floating-point number\n",
    "\n",
    "# Step 2: Calculate the area of the rectangle using the formula: area = length * width\n",
    "area = length * width # Calculating the area by multiplying length and width\n",
    "\n",
    "# Step 3: Display the calculated area to the user\n",
    "print(\"The area of the rectangle is:\", area) # Printing the calculated area"
   ]
  },
  {
   "cell_type": "markdown",
   "metadata": {},
   "source": [
    "#### 3. Write a Python program that converts temperatures from Celsius to Fahrenheit. Take the temperature in Celsius as input, store it in a variable, convert it to Fahrenheit, and display the result."
   ]
  },
  {
   "cell_type": "code",
   "execution_count": 5,
   "metadata": {},
   "outputs": [
    {
     "name": "stdout",
     "output_type": "stream",
     "text": [
      "67 Celsius is equal to 152.60 Fahrenheit\n"
     ]
    }
   ],
   "source": [
    "# Step 1: Get the temperature in Celsius from the user\n",
    "celsius_temperature = eval(input(\"Enter temperature in Celsius: \"))\n",
    "\n",
    "# Step 2: Convert Celsius to Fahrenheit using the formula: (C * 9/5) + 32\n",
    "fahrenheit_temperature = (celsius_temperature * 9/5) + 32\n",
    "\n",
    "# Step 3: Display the converted temperature in Fahrenheit\n",
    "print(f\"{celsius_temperature} Celsius is equal to {fahrenheit_temperature:.2f} Fahrenheit\")"
   ]
  },
  {
   "cell_type": "markdown",
   "metadata": {},
   "source": [
    "## **String based questions**"
   ]
  },
  {
   "cell_type": "markdown",
   "metadata": {},
   "source": [
    " #### 1. Write a Python program that takes a string as input and prints the length of the string"
   ]
  },
  {
   "cell_type": "code",
   "execution_count": 6,
   "metadata": {},
   "outputs": [
    {
     "name": "stdout",
     "output_type": "stream",
     "text": [
      "The length of the input string is: 18\n"
     ]
    }
   ],
   "source": [
    "# Step 1: Get input from the user\n",
    "input_string = input(\"Enter a string: \")\n",
    "\n",
    "# Step 2: Calculate the length of the input string using the built-in len() function\n",
    "string_length = len(input_string)\n",
    "\n",
    "# Step 3: Print the length of the string\n",
    "print(\"The length of the input string is:\", string_length)"
   ]
  },
  {
   "cell_type": "markdown",
   "metadata": {},
   "source": [
    "#### 2. Create a program that takes a sentence from the user and counts the number of vowels (a, e, i, o, u) in the string."
   ]
  },
  {
   "cell_type": "code",
   "execution_count": 7,
   "metadata": {},
   "outputs": [
    {
     "name": "stdout",
     "output_type": "stream",
     "text": [
      "Number of vowels: 8\n"
     ]
    }
   ],
   "source": [
    "# Step 1: Get input from the user\n",
    "sentence = input(\"Enter a sentence: \")\n",
    "\n",
    "# Step 2: Initialize a variable to count the vowels\n",
    "vowel_count = 0\n",
    "\n",
    "# Step 3: Iterate through each character in the sentence\n",
    "for char in sentence:\n",
    "    # Step 4: Convert the character to lowercase to handle both uppercase and lowercase vowels\n",
    "    char_lower = char.lower()\n",
    "\n",
    "    # Step 5: Check if the character is a vowel (a, e, i, o, u)\n",
    "    if char_lower in \"aeiou\":\n",
    "        # Step 6: If the character is a vowel, increment the vowel_count variable\n",
    "        vowel_count += 1\n",
    "\n",
    "# Step 7: Display the result\n",
    "print(\"Number of vowels:\", vowel_count)"
   ]
  },
  {
   "cell_type": "markdown",
   "metadata": {},
   "source": [
    "#### 3. Given a string, reverse the order of characters using string slicing and print the reversed string."
   ]
  },
  {
   "cell_type": "code",
   "execution_count": 8,
   "metadata": {},
   "outputs": [
    {
     "name": "stdout",
     "output_type": "stream",
     "text": [
      "Reversed string: dnana varuas\n"
     ]
    }
   ],
   "source": [
    "# Step 1: Get the input string from the user\n",
    "input_string = input(\"Enter a string: \")\n",
    "\n",
    "# Step 2: Use string slicing to reverse the string\n",
    "# Syntax: [start:end:step]\n",
    "# Here, we start from the end of the string, move backward with step -1, and stop at the beginning.\n",
    "reversed_string = input_string[::-1]\n",
    "\n",
    "# Step 3: Print the reversed string\n",
    "print(\"Reversed string:\", reversed_string)"
   ]
  },
  {
   "cell_type": "markdown",
   "metadata": {},
   "source": [
    " #### 4. Write a program that takes a string as input and checks if it is a palindrome (reads the same forwards and backwards)."
   ]
  },
  {
   "cell_type": "code",
   "execution_count": 10,
   "metadata": {},
   "outputs": [
    {
     "name": "stdout",
     "output_type": "stream",
     "text": [
      "The input string is not a palindrome.\n"
     ]
    }
   ],
   "source": [
    "# Step 1: Get input from the user\n",
    "input_string = input(\"Enter a string: \")\n",
    "\n",
    "# Step 2: Remove spaces and convert the input string to lowercase\n",
    "cleaned_string = input_string.replace(\" \", \"\").lower()\n",
    "\n",
    "# Step 3: Reverse the cleaned string using slicing\n",
    "reversed_string = cleaned_string[::-1]\n",
    "\n",
    "# Step 4: Compare the cleaned string with its reverse to check for palindrome\n",
    "if cleaned_string == reversed_string:\n",
    "    print(\"The input string is a palindrome.\")\n",
    "else:\n",
    "    print(\"The input string is not a palindrome.\")"
   ]
  },
  {
   "cell_type": "markdown",
   "metadata": {},
   "source": [
    "#### 5. Create a program that takes a string as input and removes all the spaces from it. Print the modified string without spaces."
   ]
  },
  {
   "cell_type": "code",
   "execution_count": 11,
   "metadata": {},
   "outputs": [
    {
     "name": "stdout",
     "output_type": "stream",
     "text": [
      "Modified string without spaces: sauravanand\n"
     ]
    }
   ],
   "source": [
    "# Step 1: Take input from the user\n",
    "input_string = input(\"Enter a string: \")\n",
    "\n",
    "# Step 2: Initialize an empty string to store the modified string without spaces\n",
    "modified_string = \"\"\n",
    "\n",
    "# Step 3: Iterate through each character in the input string\n",
    "for char in input_string:\n",
    "    # Step 4: Check if the character is not a space\n",
    "    if char != \" \":\n",
    "        # Step 5: If not a space, append the character to the modified string\n",
    "        modified_string += char\n",
    "\n",
    "# Step 6: Print the modified string without spaces\n",
    "print(\"Modified string without spaces:\", modified_string)"
   ]
  }
 ],
 "metadata": {
  "kernelspec": {
   "display_name": "Python 3",
   "language": "python",
   "name": "python3"
  },
  "language_info": {
   "codemirror_mode": {
    "name": "ipython",
    "version": 3
   },
   "file_extension": ".py",
   "mimetype": "text/x-python",
   "name": "python",
   "nbconvert_exporter": "python",
   "pygments_lexer": "ipython3",
   "version": "3.11.5"
  },
  "orig_nbformat": 4
 },
 "nbformat": 4,
 "nbformat_minor": 2
}
